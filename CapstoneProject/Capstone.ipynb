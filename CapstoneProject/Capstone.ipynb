{
 "cells": [
  {
   "cell_type": "code",
   "execution_count": 1,
   "metadata": {},
   "outputs": [
    {
     "name": "stdout",
     "output_type": "stream",
     "text": [
      "Collecting folium\n",
      "\u001b[?25l  Downloading https://files.pythonhosted.org/packages/a4/f0/44e69d50519880287cc41e7c8a6acc58daa9a9acf5f6afc52bcc70f69a6d/folium-0.11.0-py2.py3-none-any.whl (93kB)\n",
      "\u001b[K     |████████████████████████████████| 102kB 7.3MB/s ta 0:00:011\n",
      "\u001b[?25hCollecting branca>=0.3.0 (from folium)\n",
      "  Downloading https://files.pythonhosted.org/packages/13/fb/9eacc24ba3216510c6b59a4ea1cd53d87f25ba76237d7f4393abeaf4c94e/branca-0.4.1-py3-none-any.whl\n",
      "Requirement already satisfied: numpy in /opt/conda/envs/Python36/lib/python3.6/site-packages (from folium) (1.15.4)\n",
      "Requirement already satisfied: requests in /opt/conda/envs/Python36/lib/python3.6/site-packages (from folium) (2.21.0)\n",
      "Requirement already satisfied: jinja2>=2.9 in /opt/conda/envs/Python36/lib/python3.6/site-packages (from folium) (2.10)\n",
      "Requirement already satisfied: chardet<3.1.0,>=3.0.2 in /opt/conda/envs/Python36/lib/python3.6/site-packages (from requests->folium) (3.0.4)\n",
      "Requirement already satisfied: idna<2.9,>=2.5 in /opt/conda/envs/Python36/lib/python3.6/site-packages (from requests->folium) (2.8)\n",
      "Requirement already satisfied: certifi>=2017.4.17 in /opt/conda/envs/Python36/lib/python3.6/site-packages (from requests->folium) (2020.4.5.1)\n",
      "Requirement already satisfied: urllib3<1.25,>=1.21.1 in /opt/conda/envs/Python36/lib/python3.6/site-packages (from requests->folium) (1.24.1)\n",
      "Requirement already satisfied: MarkupSafe>=0.23 in /opt/conda/envs/Python36/lib/python3.6/site-packages (from jinja2>=2.9->folium) (1.1.0)\n",
      "Installing collected packages: branca, folium\n",
      "Successfully installed branca-0.4.1 folium-0.11.0\n"
     ]
    }
   ],
   "source": [
    "!pip install folium\n",
    "import requests\n",
    "\n",
    "import numpy as np # library for vectorized computation\n",
    "import pandas as pd # library to process data as dataframes\n",
    "from pandas.io.json import json_normalize # tranform JSON file into a pandas dataframe\n",
    "\n",
    "import matplotlib.pyplot as plt # plotting library\n",
    "# backend for rendering plots within the browser\n",
    "%matplotlib inline \n",
    "\n",
    "# Matplotlib and associated plotting modules\n",
    "import matplotlib.cm as cm\n",
    "import matplotlib.colors as colors\n",
    "\n",
    "# import k-means from clustering stage\n",
    "from sklearn.cluster import KMeans\n",
    "\n",
    "#!conda install -c conda-forge folium=0.5.0\n",
    "import folium \n",
    "\n",
    "from collections import Counter\n",
    "from bs4 import BeautifulSoup\n"
   ]
  },
  {
   "cell_type": "code",
   "execution_count": 2,
   "metadata": {},
   "outputs": [],
   "source": [
    "CLIENT_ID # Foursquare ID\n",
    "CLIENT_SECRET  # Foursquare Secret\n",
    "VERSION = '20180604'\n",
    "LIMIT = 50\n",
    "radius = 500"
   ]
  },
  {
   "cell_type": "markdown",
   "metadata": {},
   "source": [
    "<h3> Get 30 most popular venue categories from each location in Foursquare API </h3>"
   ]
  },
  {
   "cell_type": "code",
   "execution_count": 3,
   "metadata": {},
   "outputs": [],
   "source": [
    "locations = [\"New York City, NY\", \"San Francisco, CA\", \"Chicago, IL\", \"Boston, MA\", \"Philadelphia, PA\"]\n",
    "popular_venue_data = {}\n",
    "for location in locations:\n",
    "    location_data = {}\n",
    "    url = 'https://api.foursquare.com/v2/venues/explore?client_id={}&client_secret={}&near={}&v={}&radius={}&limit={}&sortByPopularity=1'.format(CLIENT_ID, CLIENT_SECRET, location, VERSION, radius, LIMIT)\n",
    "    results = requests.get(url).json()\n",
    "    for venue in results['response']['groups'][0]['items']:\n",
    "        venue_type = venue['venue']['categories'][0]['name']\n",
    "        if venue_type in location_data:\n",
    "            location_data[venue_type] += 1\n",
    "        else:\n",
    "            location_data[venue_type] = 1\n",
    "    popular_venue_data[location]=location_data\n"
   ]
  },
  {
   "cell_type": "markdown",
   "metadata": {},
   "source": [
    "<h2> Get 5 most popular venues and insert data into Pandas DataFrame </h2>\n",
    "\n",
    "<h6> Sorted in order from Most Popular (1) to Least Popular (5)</h6>"
   ]
  },
  {
   "cell_type": "code",
   "execution_count": 4,
   "metadata": {},
   "outputs": [],
   "source": [
    "data = {'City':[], 1:[], 2:[], 3:[], 4:[], 5:[]}\n",
    "for loc in locations:\n",
    "    popular_venue_data[loc] = [i[0] for i in Counter(popular_venue_data[loc]).most_common(5)]\n",
    "    data['City'].append(loc)\n",
    "    for i in range(1,6):\n",
    "        data[i].append(popular_venue_data[loc][i-1])\n",
    "popular_venue_df=pd.DataFrame(data)\n",
    "popular_venue_df[\"City\"].replace({\"New York City, NY\":\"NYC\", \"San Francisco, CA\":\"San Francisco\", \"Chicago, IL\":\"Chicago\", \"Boston, MA\":\"Boston\", \"Philadelphia, PA\":\"Philadelphia\"}, inplace=True)"
   ]
  },
  {
   "cell_type": "markdown",
   "metadata": {},
   "source": [
    "<H1> DataFrame of the Population Density in Each Location </H1>\n",
    "\n",
    "<h3> Scraped from governing.com using BeautifulSoup and data entered into a Pandas DF</h3>"
   ]
  },
  {
   "cell_type": "code",
   "execution_count": 5,
   "metadata": {},
   "outputs": [],
   "source": [
    "res = requests.get(\"https://www.governing.com/gov-data/population-density-land-area-cities-map.html\")\n",
    "soup = BeautifulSoup(res.content, 'lxml')\n",
    "tables = soup.find_all('table')\n",
    "locations = [\"New York, New York\", \"San Francisco\", \"Chicago\", \"Boston\", \"Philadelphia\"]\n",
    "for table in tables:\n",
    "    table_rows = table.find_all('tr')\n",
    "    res = []\n",
    "    for tr in table_rows:\n",
    "        td = tr.find_all('td')\n",
    "        row = [tr.text.strip() for tr in td if tr.text.strip()]\n",
    "        for elem in locations:\n",
    "            if len(row)>1 and elem in row[0] :\n",
    "                res.append(row)\n",
    "                locations.remove(elem)\n",
    "                break\n",
    "                \n",
    "population_density_df = pd.DataFrame(res, columns=['City', 'Population Density (Persons/Square Mile)', '2016 Population', 'Land Area (Square Miles)'])\n",
    "population_density_df[\"City\"].replace({\"New York, New York\":\"NYC\", \"San Francisco, California\":\"San Francisco\", \"Chicago, Illinois\":\"Chicago\", \"Boston, Massachusetts\":\"Boston\", \"Philadelphia, Pennsylvania\":\"Philadelphia\"}, inplace=True)"
   ]
  },
  {
   "cell_type": "markdown",
   "metadata": {},
   "source": [
    "<H1> DataFrame of Median Home Price in Each Location </H1>\n",
    "\n",
    "<h3> Scraped from kiplinger.com using BeautifulSoup and data entered into a Pandas DF</h3>"
   ]
  },
  {
   "cell_type": "code",
   "execution_count": 6,
   "metadata": {},
   "outputs": [],
   "source": [
    "res = requests.get(\"https://www.kiplinger.com/article/real-estate/T010-C000-S002-home-price-changes-in-the-100-largest-metro-areas.html\")\n",
    "soup = BeautifulSoup(res.content, 'lxml')\n",
    "tables = soup.find_all('table')\n",
    "locations = [\"New York, N.Y.\", \"San Francisco\", \"Chicago\", \"Boston\", \"Philadelphia\"]\n",
    "for table in tables:\n",
    "    table_rows = table.find_all('tr')\n",
    "    res = []\n",
    "    for tr in table_rows:\n",
    "        td = tr.find_all('td')\n",
    "        row = [tr.text.strip() for tr in td if tr.text.strip()]\n",
    "        for elem in locations:\n",
    "            if len(row)>1 and elem in row[0] :\n",
    "                res.append(row)\n",
    "                locations.remove(elem)\n",
    "                break\n",
    "                \n",
    "home_prices_df = pd.DataFrame(res, columns=['Metro Area', 'Median Home Price($)', '% Change 1 Year', '% Change Since Peak', \"% Change Since Bottom\", \"Affordability Index\"])\n",
    "home_prices_df[\"Metro Area\"].replace({\"New York, N.Y.-N.J.\":\"NYC\", \"San Francisco, Calif.\":\"San Francisco\", \"Chicago, Ill.\":\"Chicago\", \"Boston, Mass.\":\"Boston\", \"Philadelphia, Pa.\":\"Philadelphia\"}, inplace=True)\n"
   ]
  },
  {
   "cell_type": "markdown",
   "metadata": {},
   "source": [
    "<H1> DataFrame of the School District Size in Each Location </H1>\n",
    "\n",
    "<h3> Scraped from wikipedia.com using BeautifulSoup and data entered into a Pandas DF</h3>"
   ]
  },
  {
   "cell_type": "code",
   "execution_count": 7,
   "metadata": {},
   "outputs": [],
   "source": [
    "res = requests.get(\"https://en.wikipedia.org/wiki/List_of_the_largest_school_districts_in_the_United_States_by_enrollment\")\n",
    "soup = BeautifulSoup(res.content, 'lxml')\n",
    "tables = soup.find_all('table')\n",
    "locations = [\"New York City\", \"San Francisco\", \"Chicago\", \"Boston\", \"Philadelphia\"]\n",
    "for table in tables:\n",
    "    table_rows = table.find_all('tr')\n",
    "    res = []\n",
    "    for tr in table_rows:\n",
    "        td = tr.find_all('td')\n",
    "        row = [tr.text.strip() for tr in td if tr.text.strip()]\n",
    "        for elem in locations:\n",
    "            if len(row)>1 and elem in row[2] :\n",
    "                res.append(row)\n",
    "                locations.remove(elem)\n",
    "                break\n",
    "                \n",
    "school_df = pd.DataFrame(res, columns=['Rank', 'vs 2014', 'School District', \"State/Territory\", \"Students in Autumn of 2016\"])\n",
    "school_df[\"School District\"].replace({\"New York City\":\"NYC\", \"San Francisco Unified\":\"San Francisco\", \"City of Chicago (SD 299)\":\"Chicago\", \"Philadelphia City\":\"Philadelphia\"}, inplace=True)\n"
   ]
  },
  {
   "cell_type": "markdown",
   "metadata": {},
   "source": [
    "<h1> Compile All Data from previous dfs into a single df </h1>"
   ]
  },
  {
   "cell_type": "code",
   "execution_count": 8,
   "metadata": {},
   "outputs": [
    {
     "data": {
      "text/html": [
       "<div>\n",
       "<style scoped>\n",
       "    .dataframe tbody tr th:only-of-type {\n",
       "        vertical-align: middle;\n",
       "    }\n",
       "\n",
       "    .dataframe tbody tr th {\n",
       "        vertical-align: top;\n",
       "    }\n",
       "\n",
       "    .dataframe thead th {\n",
       "        text-align: right;\n",
       "    }\n",
       "</style>\n",
       "<table border=\"1\" class=\"dataframe\">\n",
       "  <thead>\n",
       "    <tr style=\"text-align: right;\">\n",
       "      <th></th>\n",
       "      <th>City</th>\n",
       "      <th>School District Size</th>\n",
       "      <th>Population Density</th>\n",
       "      <th>Median Home Price ($)</th>\n",
       "      <th>Most Popular Venue</th>\n",
       "      <th>Venue 2</th>\n",
       "      <th>Venue 3</th>\n",
       "      <th>Venue 4</th>\n",
       "      <th>Venue 5</th>\n",
       "    </tr>\n",
       "  </thead>\n",
       "  <tbody>\n",
       "    <tr>\n",
       "      <th>0</th>\n",
       "      <td>NYC</td>\n",
       "      <td>984,462</td>\n",
       "      <td>28,211</td>\n",
       "      <td>418,000</td>\n",
       "      <td>American Restaurant</td>\n",
       "      <td>Gym / Fitness Center</td>\n",
       "      <td>Coffee Shop</td>\n",
       "      <td>Grocery Store</td>\n",
       "      <td>Hotel</td>\n",
       "    </tr>\n",
       "    <tr>\n",
       "      <th>1</th>\n",
       "      <td>San Francisco</td>\n",
       "      <td>60,133</td>\n",
       "      <td>18,581</td>\n",
       "      <td>875,000</td>\n",
       "      <td>Coffee Shop</td>\n",
       "      <td>Café</td>\n",
       "      <td>Cocktail Bar</td>\n",
       "      <td>New American Restaurant</td>\n",
       "      <td>Food &amp; Drink Shop</td>\n",
       "    </tr>\n",
       "    <tr>\n",
       "      <th>2</th>\n",
       "      <td>Chicago</td>\n",
       "      <td>378,199</td>\n",
       "      <td>11,883</td>\n",
       "      <td>229,000</td>\n",
       "      <td>Mexican Restaurant</td>\n",
       "      <td>Train Station</td>\n",
       "      <td>Dive Bar</td>\n",
       "      <td>Donut Shop</td>\n",
       "      <td>Brewery</td>\n",
       "    </tr>\n",
       "    <tr>\n",
       "      <th>3</th>\n",
       "      <td>Philadelphia</td>\n",
       "      <td>133,929</td>\n",
       "      <td>11,692</td>\n",
       "      <td>220,000</td>\n",
       "      <td>Hotel</td>\n",
       "      <td>Plaza</td>\n",
       "      <td>Grocery Store</td>\n",
       "      <td>Convenience Store</td>\n",
       "      <td>Coffee Shop</td>\n",
       "    </tr>\n",
       "    <tr>\n",
       "      <th>4</th>\n",
       "      <td>Boston</td>\n",
       "      <td>53,640</td>\n",
       "      <td>13,943</td>\n",
       "      <td>421,000</td>\n",
       "      <td>American Restaurant</td>\n",
       "      <td>Historic Site</td>\n",
       "      <td>Coffee Shop</td>\n",
       "      <td>Pub</td>\n",
       "      <td>Market</td>\n",
       "    </tr>\n",
       "  </tbody>\n",
       "</table>\n",
       "</div>"
      ],
      "text/plain": [
       "            City School District Size Population Density  \\\n",
       "0            NYC              984,462             28,211   \n",
       "1  San Francisco               60,133             18,581   \n",
       "2        Chicago              378,199             11,883   \n",
       "3   Philadelphia              133,929             11,692   \n",
       "4         Boston               53,640             13,943   \n",
       "\n",
       "  Median Home Price ($)   Most Popular Venue               Venue 2  \\\n",
       "0               418,000  American Restaurant  Gym / Fitness Center   \n",
       "1               875,000          Coffee Shop                  Café   \n",
       "2               229,000   Mexican Restaurant         Train Station   \n",
       "3               220,000                Hotel                 Plaza   \n",
       "4               421,000  American Restaurant         Historic Site   \n",
       "\n",
       "         Venue 3                  Venue 4            Venue 5  \n",
       "0    Coffee Shop            Grocery Store              Hotel  \n",
       "1   Cocktail Bar  New American Restaurant  Food & Drink Shop  \n",
       "2       Dive Bar               Donut Shop            Brewery  \n",
       "3  Grocery Store        Convenience Store        Coffee Shop  \n",
       "4    Coffee Shop                      Pub             Market  "
      ]
     },
     "execution_count": 8,
     "metadata": {},
     "output_type": "execute_result"
    }
   ],
   "source": [
    "data = {'City':[], \"School District Size\":[], \"Population Density\":[], \"Median Home Price ($)\":[], \"Most Popular Venue\":[], \"Venue 2\":[], \"Venue 3\":[], \"Venue 4\":[], \"Venue 5\":[]}\n",
    "locations = [\"NYC\", \"San Francisco\", \"Chicago\", \"Philadelphia\", 'Boston']\n",
    "\n",
    "for loc in locations:\n",
    "    data['City'].append(loc)\n",
    "    data['School District Size'].append(school_df['Students in Autumn of 2016'][school_df['School District']== loc].iloc[0])\n",
    "    data['Population Density'].append(population_density_df['Population Density (Persons/Square Mile)'][population_density_df['City']==loc].iloc[0])\n",
    "    data['Median Home Price ($)'].append(home_prices_df['Median Home Price($)'][home_prices_df['Metro Area']==loc].iloc[0])\n",
    "    data['Most Popular Venue'].append(popular_venue_df[1][popular_venue_df['City']==loc].iloc[0])\n",
    "    data['Venue 2'].append(popular_venue_df[2][popular_venue_df['City']==loc].iloc[0])\n",
    "    data['Venue 3'].append(popular_venue_df[3][popular_venue_df['City']==loc].iloc[0])\n",
    "    data['Venue 4'].append(popular_venue_df[4][popular_venue_df['City']==loc].iloc[0])\n",
    "    data['Venue 5'].append(popular_venue_df[5][popular_venue_df['City']==loc].iloc[0])\n",
    "\n",
    "overall_df = pd.DataFrame(data)\n",
    "overall_df"
   ]
  },
  {
   "cell_type": "code",
   "execution_count": null,
   "metadata": {},
   "outputs": [],
   "source": []
  }
 ],
 "metadata": {
  "kernelspec": {
   "display_name": "Python 3.6",
   "language": "python",
   "name": "python3"
  },
  "language_info": {
   "codemirror_mode": {
    "name": "ipython",
    "version": 3
   },
   "file_extension": ".py",
   "mimetype": "text/x-python",
   "name": "python",
   "nbconvert_exporter": "python",
   "pygments_lexer": "ipython3",
   "version": "3.6.9"
  }
 },
 "nbformat": 4,
 "nbformat_minor": 1
}
